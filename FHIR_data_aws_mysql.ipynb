{
 "cells": [
  {
   "cell_type": "code",
   "execution_count": 1,
   "id": "6a6bb2d3",
   "metadata": {},
   "outputs": [],
   "source": [
    "import pandas as pd\n",
    "import glob\n",
    "\n",
    "import mysql.connector\n",
    "from mysql.connector import errorcode\n",
    "from sqlalchemy import create_engine"
   ]
  },
  {
   "cell_type": "code",
   "execution_count": 2,
   "id": "e22c06d5",
   "metadata": {},
   "outputs": [],
   "source": [
    "path = r'C:\\Users\\altz7\\Desktop\\med_data' # please use your path\n",
    "all_files = glob.glob(path + \"/*.json\")\n",
    "\n",
    "frames = [pd.read_json(filename) for filename in all_files]\n",
    "\n",
    "raw_frame = pd.concat(frames, axis=0, ignore_index=True)\n",
    "\n",
    "#unpack nested data for one of three available dictionary keys: \"resourceType\", \"type\", \"entry\"\n",
    "df_all_data = pd.json_normalize(raw_frame[\"entry\"])"
   ]
  },
  {
   "cell_type": "code",
   "execution_count": 3,
   "id": "771b8837",
   "metadata": {},
   "outputs": [],
   "source": [
    "# example of data selection for resourceType = \"Patient\"\n",
    "\n",
    "# http://hl7.org/fhir/us/core/STU5/StructureDefinition-us-core-patient.html\n",
    "\n",
    "patient = df_all_data[df_all_data[\"resource.resourceType\"] == \"Patient\"]\n",
    "\n",
    "required_columns = [\"resource.resourceType\", \"resource.id\", \"resource.extension\", \n",
    "                    \"resource.gender\", \"resource.birthDate\", \"resource.address\"]\n",
    "\n",
    "patient = patient[required_columns]"
   ]
  },
  {
   "cell_type": "code",
   "execution_count": 4,
   "id": "5d99fde1",
   "metadata": {},
   "outputs": [],
   "source": [
    "#after first json normalization all remaining nested structures are converted to lists\n",
    "\n",
    "# first \"0\" in LC will represent first list item from column \"resource.extension\" or \"resource.address\"\n",
    "\n",
    "patient[\"race\"] = [patient[\"resource.extension\"][i][0]['extension'][0]['valueCoding']['display'] for i in patient.index]\n",
    "\n",
    "patient[\"street_raw\"] = [patient[\"resource.address\"][i][0]['line'] for i in patient.index]\n",
    "patient['street'] = [''.join(map(str, l)) for l in patient['street_raw']] # convert list data into string\n",
    "\n",
    "patient[\"city\"] = [patient[\"resource.address\"][i][0]['city'] for i in patient.index]\n",
    "\n",
    "patient[\"state\"] = [patient[\"resource.address\"][i][0]['state'] for i in patient.index]\n",
    "\n",
    "patient[\"country\"] = [patient[\"resource.address\"][i][0]['country'] for i in patient.index]\n",
    "\n",
    "#added protection against missing data inside nested dictionary\n",
    "patient[\"postalCode\"] = [patient[\"resource.address\"][i][0]['postalCode'] if \"postalCode\" in patient[\"resource.address\"][i][0] else '' for i in patient.index]"
   ]
  },
  {
   "cell_type": "code",
   "execution_count": 5,
   "id": "b9d758fe",
   "metadata": {},
   "outputs": [],
   "source": [
    "# rename and drop columns\n",
    "\n",
    "patient = patient.drop(columns=['street_raw', 'resource.extension', 'resource.address'])\n",
    "\n",
    "\n",
    "patient = patient.rename(columns={\"resource.resourceType\": \"resource_type\",\n",
    "                                  \"resource.id\": \"id\",\n",
    "                                  \"resource.gender\": \"gender\",\n",
    "                                  \"resource.birthDate\": \"date_of_birth\"})\n",
    "\n",
    "patient.reset_index(drop=True, inplace=True)"
   ]
  },
  {
   "cell_type": "code",
   "execution_count": 10,
   "id": "8b6ccf62",
   "metadata": {},
   "outputs": [
    {
     "name": "stdout",
     "output_type": "stream",
     "text": [
      "<mysql.connector.connection_cext.CMySQLConnection object at 0x000002244728E1C0>\n"
     ]
    }
   ],
   "source": [
    "#creates connection > Please use your AWS credentials\n",
    "cnx = mysql.connector.connect(\n",
    "        host = \"\", #url endpoint from AWS console\n",
    "        user = \"\",\n",
    "        password = \"\")\n",
    "\n",
    "cursor = cnx.cursor()"
   ]
  },
  {
   "cell_type": "code",
   "execution_count": null,
   "id": "1a53267a",
   "metadata": {},
   "outputs": [],
   "source": [
    "#creates db\n",
    "\n",
    "#database name\n",
    "db_name = 'patient'\n",
    "\n",
    "def create_database(cursor, database):\n",
    "    try:\n",
    "        cursor.execute(\n",
    "            \"CREATE DATABASE {} DEFAULT CHARACTER SET 'utf8'\".format(database))\n",
    "    except mysql.connector.Error as err:\n",
    "        print(\"Failed creating database: {}\".format(err))\n",
    "        exit(1)\n",
    "\n",
    "try:\n",
    "    cursor.execute(\"USE {}\".format(db_name))\n",
    "except mysql.connector.Error as err:\n",
    "    print(\"Database {} does not exists.\".format(db_name))\n",
    "    if err.errno == errorcode.ER_BAD_DB_ERROR:\n",
    "        create_database(cursor, db_name)\n",
    "        print(\"Database {} created successfully.\".format(db_name))\n",
    "        cnx.database = db_name\n",
    "    else:\n",
    "        print(err)\n",
    "        exit(1)"
   ]
  },
  {
   "cell_type": "code",
   "execution_count": 11,
   "id": "41383b6e",
   "metadata": {},
   "outputs": [],
   "source": [
    "# Please use your AWS credentials\n",
    "\n",
    "engine = create_engine(\"mysql+mysqlconnector://{user}:{pw}@{host}/{db}\"\n",
    "                       .format(user = \"\",\n",
    "                               pw = \"\",\n",
    "                               host = \"\",\n",
    "                               db = ''))"
   ]
  },
  {
   "cell_type": "code",
   "execution_count": 13,
   "id": "5327baca",
   "metadata": {},
   "outputs": [],
   "source": [
    "# insert DataFrame into AWS MySQL\n",
    "\n",
    "patient.to_sql(\"patient_profile\", con = engine, if_exists = 'append')"
   ]
  },
  {
   "cell_type": "code",
   "execution_count": 14,
   "id": "dc14d70a",
   "metadata": {},
   "outputs": [],
   "source": [
    "cnx.commit()\n",
    "cursor.close()\n",
    "cnx.close()"
   ]
  }
 ],
 "metadata": {
  "kernelspec": {
   "display_name": "Python 3",
   "language": "python",
   "name": "python3"
  },
  "language_info": {
   "codemirror_mode": {
    "name": "ipython",
    "version": 3
   },
   "file_extension": ".py",
   "mimetype": "text/x-python",
   "name": "python",
   "nbconvert_exporter": "python",
   "pygments_lexer": "ipython3",
   "version": "3.8.8"
  }
 },
 "nbformat": 4,
 "nbformat_minor": 5
}
