{
 "cells": [
  {
   "cell_type": "code",
   "execution_count": 1,
   "id": "6a6bb2d3",
   "metadata": {},
   "outputs": [],
   "source": [
    "import pandas as pd\n",
    "import glob\n",
    "import fastparquet"
   ]
  },
  {
   "cell_type": "code",
   "execution_count": 2,
   "id": "e22c06d5",
   "metadata": {},
   "outputs": [],
   "source": [
    "path = r'C:\\Users\\altz7\\Desktop\\med_data' # please use your path\n",
    "all_files = glob.glob(path + \"/*.json\")\n",
    "\n",
    "frames = [pd.read_json(filename) for filename in all_files]\n",
    "\n",
    "raw_frame = pd.concat(frames, axis=0, ignore_index=True)\n",
    "\n",
    "#unpack nested data for one of three available dictionary keys: \"resourceType\", \"type\", \"entry\"\n",
    "df_all_data = pd.json_normalize(raw_frame[\"entry\"])"
   ]
  },
  {
   "cell_type": "code",
   "execution_count": 3,
   "id": "771b8837",
   "metadata": {},
   "outputs": [],
   "source": [
    "# example of data selection for resourceType = \"Patient\"\n",
    "\n",
    "# http://hl7.org/fhir/us/core/STU5/StructureDefinition-us-core-patient.html\n",
    "\n",
    "patient = df_all_data[df_all_data[\"resource.resourceType\"] == \"Patient\"]\n",
    "\n",
    "required_columns = [\"resource.resourceType\", \"resource.id\", \"resource.extension\", \n",
    "                    \"resource.gender\", \"resource.birthDate\", \"resource.address\"]\n",
    "\n",
    "patient = patient[required_columns]"
   ]
  },
  {
   "cell_type": "code",
   "execution_count": 4,
   "id": "5d99fde1",
   "metadata": {},
   "outputs": [],
   "source": [
    "#after first json normalization all remaining nested structures are converted to lists\n",
    "\n",
    "# first \"0\" in LC will represent first list item from column \"resource.extension\" or \"resource.address\"\n",
    "\n",
    "patient[\"race\"] = [patient[\"resource.extension\"][i][0]['extension'][0]['valueCoding']['display'] for i in patient.index]\n",
    "\n",
    "patient[\"street_raw\"] = [patient[\"resource.address\"][i][0]['line'] for i in patient.index]\n",
    "patient['street'] = [''.join(map(str, l)) for l in patient['street_raw']] # convert list data into string\n",
    "\n",
    "patient[\"city\"] = [patient[\"resource.address\"][i][0]['city'] for i in patient.index]\n",
    "\n",
    "patient[\"state\"] = [patient[\"resource.address\"][i][0]['state'] for i in patient.index]\n",
    "\n",
    "patient[\"country\"] = [patient[\"resource.address\"][i][0]['country'] for i in patient.index]\n",
    "\n",
    "#added protection against missing data inside nested dictionary\n",
    "patient[\"postalCode\"] = [patient[\"resource.address\"][i][0]['postalCode'] if \"postalCode\" in patient[\"resource.address\"][i][0] else '' for i in patient.index]"
   ]
  },
  {
   "cell_type": "code",
   "execution_count": 5,
   "id": "b9d758fe",
   "metadata": {},
   "outputs": [],
   "source": [
    "# rename and drop columns\n",
    "\n",
    "patient = patient.drop(columns=['street_raw', 'resource.extension', 'resource.address'])\n",
    "\n",
    "\n",
    "patient = patient.rename(columns={\"resource.resourceType\": \"resource_type\",\n",
    "                                  \"resource.id\": \"id\",\n",
    "                                  \"resource.gender\": \"gender\",\n",
    "                                  \"resource.birthDate\": \"date_of_birth\"})"
   ]
  },
  {
   "cell_type": "code",
   "execution_count": 7,
   "id": "6c29a60a",
   "metadata": {},
   "outputs": [],
   "source": [
    "#Saving results:\n",
    "\n",
    "#Parquet\n",
    "patient.to_parquet('patient_profile.parquet')\n",
    "df_all_data.to_parquet('exa_all_data.parquet')\n",
    "\n",
    "#CSV\n",
    "patient.to_csv('patient_profile.csv', index=False)\n",
    "df_all_data.to_csv('exa_all_data.csv', index=False)"
   ]
  }
 ],
 "metadata": {
  "kernelspec": {
   "display_name": "Python 3",
   "language": "python",
   "name": "python3"
  },
  "language_info": {
   "codemirror_mode": {
    "name": "ipython",
    "version": 3
   },
   "file_extension": ".py",
   "mimetype": "text/x-python",
   "name": "python",
   "nbconvert_exporter": "python",
   "pygments_lexer": "ipython3",
   "version": "3.8.8"
  }
 },
 "nbformat": 4,
 "nbformat_minor": 5
}
